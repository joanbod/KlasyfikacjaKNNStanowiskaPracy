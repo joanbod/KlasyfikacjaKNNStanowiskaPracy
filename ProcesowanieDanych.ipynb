{
 "cells": [
  {
   "cell_type": "code",
   "execution_count": 181,
   "id": "56b1dad7",
   "metadata": {},
   "outputs": [],
   "source": [
    "import pandas as pd\n",
    "import seaborn as sns\n",
    "import random as rd\n",
    "import numpy as np\n",
    "import matplotlib.pyplot as plt"
   ]
  },
  {
   "cell_type": "code",
   "execution_count": 182,
   "id": "168e9787",
   "metadata": {},
   "outputs": [],
   "source": [
    "df=pd.read_csv('CleanDataSalaries.csv')"
   ]
  },
  {
   "cell_type": "code",
   "execution_count": 183,
   "id": "01be985c",
   "metadata": {},
   "outputs": [
    {
     "data": {
      "text/html": [
       "<div>\n",
       "<style scoped>\n",
       "    .dataframe tbody tr th:only-of-type {\n",
       "        vertical-align: middle;\n",
       "    }\n",
       "\n",
       "    .dataframe tbody tr th {\n",
       "        vertical-align: top;\n",
       "    }\n",
       "\n",
       "    .dataframe thead th {\n",
       "        text-align: right;\n",
       "    }\n",
       "</style>\n",
       "<table border=\"1\" class=\"dataframe\">\n",
       "  <thead>\n",
       "    <tr style=\"text-align: right;\">\n",
       "      <th></th>\n",
       "      <th>work_year</th>\n",
       "      <th>experience_level</th>\n",
       "      <th>employment_type</th>\n",
       "      <th>job_title</th>\n",
       "      <th>salary_in_usd</th>\n",
       "      <th>employee_residence</th>\n",
       "      <th>remote_ratio</th>\n",
       "      <th>company_location</th>\n",
       "      <th>company_size</th>\n",
       "      <th>label</th>\n",
       "    </tr>\n",
       "  </thead>\n",
       "  <tbody>\n",
       "    <tr>\n",
       "      <th>0</th>\n",
       "      <td>2021</td>\n",
       "      <td>EN</td>\n",
       "      <td>FT</td>\n",
       "      <td>Data Science Consultant</td>\n",
       "      <td>64369.0</td>\n",
       "      <td>DE</td>\n",
       "      <td>50</td>\n",
       "      <td>DE</td>\n",
       "      <td>L</td>\n",
       "      <td>Rest</td>\n",
       "    </tr>\n",
       "    <tr>\n",
       "      <th>1</th>\n",
       "      <td>2020</td>\n",
       "      <td>SE</td>\n",
       "      <td>FT</td>\n",
       "      <td>Data Scientist</td>\n",
       "      <td>68428.0</td>\n",
       "      <td>GR</td>\n",
       "      <td>100</td>\n",
       "      <td>US</td>\n",
       "      <td>L</td>\n",
       "      <td>Scientist</td>\n",
       "    </tr>\n",
       "    <tr>\n",
       "      <th>2</th>\n",
       "      <td>2021</td>\n",
       "      <td>EX</td>\n",
       "      <td>FT</td>\n",
       "      <td>Head of Data Science</td>\n",
       "      <td>85000.0</td>\n",
       "      <td>RU</td>\n",
       "      <td>0</td>\n",
       "      <td>RU</td>\n",
       "      <td>M</td>\n",
       "      <td>Leader position</td>\n",
       "    </tr>\n",
       "    <tr>\n",
       "      <th>3</th>\n",
       "      <td>2021</td>\n",
       "      <td>EX</td>\n",
       "      <td>FT</td>\n",
       "      <td>Head of Data</td>\n",
       "      <td>230000.0</td>\n",
       "      <td>RU</td>\n",
       "      <td>50</td>\n",
       "      <td>RU</td>\n",
       "      <td>L</td>\n",
       "      <td>Leader position</td>\n",
       "    </tr>\n",
       "    <tr>\n",
       "      <th>4</th>\n",
       "      <td>2021</td>\n",
       "      <td>EN</td>\n",
       "      <td>FT</td>\n",
       "      <td>Machine Learning Engineer</td>\n",
       "      <td>125000.0</td>\n",
       "      <td>US</td>\n",
       "      <td>100</td>\n",
       "      <td>US</td>\n",
       "      <td>S</td>\n",
       "      <td>Engineer</td>\n",
       "    </tr>\n",
       "  </tbody>\n",
       "</table>\n",
       "</div>"
      ],
      "text/plain": [
       "   work_year experience_level employment_type                  job_title  \\\n",
       "0       2021               EN              FT    Data Science Consultant   \n",
       "1       2020               SE              FT             Data Scientist   \n",
       "2       2021               EX              FT       Head of Data Science   \n",
       "3       2021               EX              FT               Head of Data   \n",
       "4       2021               EN              FT  Machine Learning Engineer   \n",
       "\n",
       "   salary_in_usd employee_residence  remote_ratio company_location  \\\n",
       "0        64369.0                 DE            50               DE   \n",
       "1        68428.0                 GR           100               US   \n",
       "2        85000.0                 RU             0               RU   \n",
       "3       230000.0                 RU            50               RU   \n",
       "4       125000.0                 US           100               US   \n",
       "\n",
       "  company_size            label  \n",
       "0            L             Rest  \n",
       "1            L        Scientist  \n",
       "2            M  Leader position  \n",
       "3            L  Leader position  \n",
       "4            S         Engineer  "
      ]
     },
     "execution_count": 183,
     "metadata": {},
     "output_type": "execute_result"
    }
   ],
   "source": [
    "df.head()"
   ]
  },
  {
   "cell_type": "code",
   "execution_count": 184,
   "id": "25b16a46",
   "metadata": {},
   "outputs": [
    {
     "name": "stdout",
     "output_type": "stream",
     "text": [
      "<class 'pandas.core.frame.DataFrame'>\n",
      "RangeIndex: 245 entries, 0 to 244\n",
      "Data columns (total 10 columns):\n",
      " #   Column              Non-Null Count  Dtype   \n",
      "---  ------              --------------  -----   \n",
      " 0   work_year           245 non-null    int64   \n",
      " 1   experience_level    245 non-null    category\n",
      " 2   employment_type     245 non-null    category\n",
      " 3   job_title           245 non-null    category\n",
      " 4   salary_in_usd       245 non-null    float64 \n",
      " 5   employee_residence  245 non-null    category\n",
      " 6   remote_ratio        245 non-null    int64   \n",
      " 7   company_location    245 non-null    category\n",
      " 8   company_size        245 non-null    category\n",
      " 9   label               245 non-null    category\n",
      "dtypes: category(7), float64(1), int64(2)\n",
      "memory usage: 12.4 KB\n"
     ]
    }
   ],
   "source": [
    "y=df.select_dtypes(include='object')  \n",
    "columnNames=y.columns.tolist() #uzyskuję wszytskie kolumny, które są obiektami do zmiany na kategorię\n",
    "        \n",
    "\n",
    "#Zmieniam obiekty na kategorie.\n",
    "for col in columnNames:\n",
    "    df[col]=df[col].astype('category')\n",
    "        \n",
    "df.info()"
   ]
  },
  {
   "cell_type": "code",
   "execution_count": 185,
   "id": "25699089",
   "metadata": {},
   "outputs": [
    {
     "name": "stdout",
     "output_type": "stream",
     "text": [
      "<class 'pandas.core.frame.DataFrame'>\n",
      "RangeIndex: 245 entries, 0 to 244\n",
      "Data columns (total 10 columns):\n",
      " #   Column              Non-Null Count  Dtype   \n",
      "---  ------              --------------  -----   \n",
      " 0   work_year           245 non-null    int64   \n",
      " 1   experience_level    245 non-null    category\n",
      " 2   employment_type     245 non-null    category\n",
      " 3   job_title           245 non-null    category\n",
      " 4   salary_in_usd       245 non-null    float64 \n",
      " 5   employee_residence  245 non-null    category\n",
      " 6   remote_ratio        245 non-null    int64   \n",
      " 7   company_location    245 non-null    category\n",
      " 8   company_size        245 non-null    category\n",
      " 9   label               245 non-null    category\n",
      "dtypes: category(7), float64(1), int64(2)\n",
      "memory usage: 12.4 KB\n"
     ]
    }
   ],
   "source": [
    "#Zapisuje nowy dataFrame\n",
    "dfCopy=df.copy(deep=True)\n",
    "dfCopy.info()"
   ]
  },
  {
   "cell_type": "code",
   "execution_count": 186,
   "id": "01731b7b",
   "metadata": {},
   "outputs": [],
   "source": [
    "class ProcessingData:\n",
    "    @staticmethod\n",
    "    def splitSet(x,k):  #k=0.7\n",
    "        n=int(len(x)*k) #numer przecięcia zbiorów\n",
    "        xTrain= x[:n]   #podział zbioru\n",
    "        xVal=x[n:]     \n",
    "        return xTrain,xVal\n",
    "    \n",
    "    @staticmethod\n",
    "    def shuffle(x): #tasowanie zbioru\n",
    "        n=len(x)-1\n",
    "        while(n>=0):\n",
    "            i=rd.randint(0,n)\n",
    "            x.iloc[i],x.iloc[n]=x.iloc[n],x.iloc[i]\n",
    "            n-=1\n",
    "        return x\n",
    "    \n",
    "    #normalizacja tylko kolumny salary_in_usd\n",
    "    @staticmethod\n",
    "    def normalize(x,column): #normalizacja min/max zbioru, zminana przedziału zbioru x'=(x-min)/(max-min)\n",
    "#         values=x.select_dtypes(include='float64') \n",
    "#         columnNames=values.columns.tolist()\n",
    "#         for column in columnNames:\n",
    "        data=x.loc[:,column] #wszytkie wartości z jednej kolumnie\n",
    "        max1=max(data)\n",
    "        #print(max1)\n",
    "        min1=min(data)\n",
    "        #print(min1)\n",
    "        for i in range(len(data)):            \n",
    "            x.at[i,column]=float(x.at[i,column]-min1)/(max1-min1)   \n",
    "\n",
    "        return x\n",
    "    \n",
    "    \n",
    "    def changeToNumeric(x):\n",
    "        #zmiana typu kolumny salary_in_usd na float aby po normalizacji nie było 0\n",
    "        \n",
    "        \n",
    "        y=x.select_dtypes(include='category')  \n",
    "        \n",
    "        columnNames=y.columns.tolist()\n",
    "        \n",
    "        for column in columnNames:            \n",
    "            \n",
    "            categoriesOfCol=x[column].cat.categories.tolist()\n",
    "            x.loc[:,column]=x.loc[:,column].astype(object)\n",
    "            newValues=[]\n",
    "            data=x.loc[:,column] #wszytkie wartości z jednej kolumny\n",
    "            \n",
    "            for i in range(len(data)):\n",
    "                x.at[i,column]=categoriesOfCol.index(x.at[i,column])\n",
    "                #zapisuje pod jakim indeksem jest jakie słowo np. EN indeks 0 itd.\n",
    "            x.loc[:,column]=x.loc[:,column].astype('float64')\n",
    "                #newValues=pd.to_numeric(newValues)\n",
    "        \n",
    "        #Osobno bo nie zaczytuje się jako int\n",
    "        x.loc[:,'work_year']=x.loc[:,'work_year'].astype('float64') \n",
    "        x.loc[:,'remote_ratio']=x.loc[:,'remote_ratio'].astype('float64') \n",
    "\n",
    "        return x"
   ]
  },
  {
   "cell_type": "code",
   "execution_count": 187,
   "id": "f08d25a0",
   "metadata": {},
   "outputs": [
    {
     "data": {
      "text/html": [
       "<div>\n",
       "<style scoped>\n",
       "    .dataframe tbody tr th:only-of-type {\n",
       "        vertical-align: middle;\n",
       "    }\n",
       "\n",
       "    .dataframe tbody tr th {\n",
       "        vertical-align: top;\n",
       "    }\n",
       "\n",
       "    .dataframe thead th {\n",
       "        text-align: right;\n",
       "    }\n",
       "</style>\n",
       "<table border=\"1\" class=\"dataframe\">\n",
       "  <thead>\n",
       "    <tr style=\"text-align: right;\">\n",
       "      <th></th>\n",
       "      <th>work_year</th>\n",
       "      <th>experience_level</th>\n",
       "      <th>employment_type</th>\n",
       "      <th>job_title</th>\n",
       "      <th>salary_in_usd</th>\n",
       "      <th>employee_residence</th>\n",
       "      <th>remote_ratio</th>\n",
       "      <th>company_location</th>\n",
       "      <th>company_size</th>\n",
       "      <th>label</th>\n",
       "    </tr>\n",
       "  </thead>\n",
       "  <tbody>\n",
       "    <tr>\n",
       "      <th>0</th>\n",
       "      <td>2021.0</td>\n",
       "      <td>0.0</td>\n",
       "      <td>2.0</td>\n",
       "      <td>17.0</td>\n",
       "      <td>64369.0</td>\n",
       "      <td>9.0</td>\n",
       "      <td>50.0</td>\n",
       "      <td>10.0</td>\n",
       "      <td>0.0</td>\n",
       "      <td>3.0</td>\n",
       "    </tr>\n",
       "    <tr>\n",
       "      <th>1</th>\n",
       "      <td>2020.0</td>\n",
       "      <td>3.0</td>\n",
       "      <td>2.0</td>\n",
       "      <td>20.0</td>\n",
       "      <td>68428.0</td>\n",
       "      <td>14.0</td>\n",
       "      <td>100.0</td>\n",
       "      <td>39.0</td>\n",
       "      <td>0.0</td>\n",
       "      <td>4.0</td>\n",
       "    </tr>\n",
       "    <tr>\n",
       "      <th>2</th>\n",
       "      <td>2021.0</td>\n",
       "      <td>1.0</td>\n",
       "      <td>2.0</td>\n",
       "      <td>27.0</td>\n",
       "      <td>85000.0</td>\n",
       "      <td>38.0</td>\n",
       "      <td>0.0</td>\n",
       "      <td>34.0</td>\n",
       "      <td>1.0</td>\n",
       "      <td>2.0</td>\n",
       "    </tr>\n",
       "    <tr>\n",
       "      <th>3</th>\n",
       "      <td>2021.0</td>\n",
       "      <td>1.0</td>\n",
       "      <td>2.0</td>\n",
       "      <td>26.0</td>\n",
       "      <td>230000.0</td>\n",
       "      <td>38.0</td>\n",
       "      <td>50.0</td>\n",
       "      <td>34.0</td>\n",
       "      <td>0.0</td>\n",
       "      <td>2.0</td>\n",
       "    </tr>\n",
       "    <tr>\n",
       "      <th>4</th>\n",
       "      <td>2021.0</td>\n",
       "      <td>0.0</td>\n",
       "      <td>2.0</td>\n",
       "      <td>32.0</td>\n",
       "      <td>125000.0</td>\n",
       "      <td>43.0</td>\n",
       "      <td>100.0</td>\n",
       "      <td>39.0</td>\n",
       "      <td>2.0</td>\n",
       "      <td>1.0</td>\n",
       "    </tr>\n",
       "  </tbody>\n",
       "</table>\n",
       "</div>"
      ],
      "text/plain": [
       "   work_year  experience_level  employment_type  job_title  salary_in_usd  \\\n",
       "0     2021.0               0.0              2.0       17.0        64369.0   \n",
       "1     2020.0               3.0              2.0       20.0        68428.0   \n",
       "2     2021.0               1.0              2.0       27.0        85000.0   \n",
       "3     2021.0               1.0              2.0       26.0       230000.0   \n",
       "4     2021.0               0.0              2.0       32.0       125000.0   \n",
       "\n",
       "   employee_residence  remote_ratio  company_location  company_size  label  \n",
       "0                 9.0          50.0              10.0           0.0    3.0  \n",
       "1                14.0         100.0              39.0           0.0    4.0  \n",
       "2                38.0           0.0              34.0           1.0    2.0  \n",
       "3                38.0          50.0              34.0           0.0    2.0  \n",
       "4                43.0         100.0              39.0           2.0    1.0  "
      ]
     },
     "execution_count": 187,
     "metadata": {},
     "output_type": "execute_result"
    }
   ],
   "source": [
    "numericData=ProcessingData.changeToNumeric(df)\n",
    "numericData.head()"
   ]
  },
  {
   "cell_type": "code",
   "execution_count": 188,
   "id": "e7dbffe3",
   "metadata": {},
   "outputs": [
    {
     "data": {
      "text/html": [
       "<div>\n",
       "<style scoped>\n",
       "    .dataframe tbody tr th:only-of-type {\n",
       "        vertical-align: middle;\n",
       "    }\n",
       "\n",
       "    .dataframe tbody tr th {\n",
       "        vertical-align: top;\n",
       "    }\n",
       "\n",
       "    .dataframe thead th {\n",
       "        text-align: right;\n",
       "    }\n",
       "</style>\n",
       "<table border=\"1\" class=\"dataframe\">\n",
       "  <thead>\n",
       "    <tr style=\"text-align: right;\">\n",
       "      <th></th>\n",
       "      <th>count</th>\n",
       "      <th>mean</th>\n",
       "      <th>std</th>\n",
       "      <th>min</th>\n",
       "      <th>25%</th>\n",
       "      <th>50%</th>\n",
       "      <th>75%</th>\n",
       "      <th>max</th>\n",
       "    </tr>\n",
       "  </thead>\n",
       "  <tbody>\n",
       "    <tr>\n",
       "      <th>work_year</th>\n",
       "      <td>245.0</td>\n",
       "      <td>2020.730612</td>\n",
       "      <td>0.444550</td>\n",
       "      <td>2020.0</td>\n",
       "      <td>2020.0</td>\n",
       "      <td>2021.0</td>\n",
       "      <td>2021.0</td>\n",
       "      <td>2021.0</td>\n",
       "    </tr>\n",
       "    <tr>\n",
       "      <th>experience_level</th>\n",
       "      <td>245.0</td>\n",
       "      <td>1.828571</td>\n",
       "      <td>1.102902</td>\n",
       "      <td>0.0</td>\n",
       "      <td>1.0</td>\n",
       "      <td>2.0</td>\n",
       "      <td>3.0</td>\n",
       "      <td>3.0</td>\n",
       "    </tr>\n",
       "    <tr>\n",
       "      <th>employment_type</th>\n",
       "      <td>245.0</td>\n",
       "      <td>1.983673</td>\n",
       "      <td>0.326021</td>\n",
       "      <td>0.0</td>\n",
       "      <td>2.0</td>\n",
       "      <td>2.0</td>\n",
       "      <td>2.0</td>\n",
       "      <td>3.0</td>\n",
       "    </tr>\n",
       "    <tr>\n",
       "      <th>job_title</th>\n",
       "      <td>245.0</td>\n",
       "      <td>20.077551</td>\n",
       "      <td>9.888627</td>\n",
       "      <td>0.0</td>\n",
       "      <td>15.0</td>\n",
       "      <td>20.0</td>\n",
       "      <td>27.0</td>\n",
       "      <td>42.0</td>\n",
       "    </tr>\n",
       "    <tr>\n",
       "      <th>salary_in_usd</th>\n",
       "      <td>245.0</td>\n",
       "      <td>99868.012245</td>\n",
       "      <td>83983.326949</td>\n",
       "      <td>2876.0</td>\n",
       "      <td>45896.0</td>\n",
       "      <td>81000.0</td>\n",
       "      <td>130000.0</td>\n",
       "      <td>600000.0</td>\n",
       "    </tr>\n",
       "    <tr>\n",
       "      <th>employee_residence</th>\n",
       "      <td>245.0</td>\n",
       "      <td>27.167347</td>\n",
       "      <td>14.978145</td>\n",
       "      <td>0.0</td>\n",
       "      <td>12.0</td>\n",
       "      <td>29.0</td>\n",
       "      <td>43.0</td>\n",
       "      <td>44.0</td>\n",
       "    </tr>\n",
       "    <tr>\n",
       "      <th>remote_ratio</th>\n",
       "      <td>245.0</td>\n",
       "      <td>69.183673</td>\n",
       "      <td>37.593421</td>\n",
       "      <td>0.0</td>\n",
       "      <td>50.0</td>\n",
       "      <td>100.0</td>\n",
       "      <td>100.0</td>\n",
       "      <td>100.0</td>\n",
       "    </tr>\n",
       "    <tr>\n",
       "      <th>company_location</th>\n",
       "      <td>245.0</td>\n",
       "      <td>26.248980</td>\n",
       "      <td>13.301333</td>\n",
       "      <td>0.0</td>\n",
       "      <td>13.0</td>\n",
       "      <td>31.0</td>\n",
       "      <td>39.0</td>\n",
       "      <td>40.0</td>\n",
       "    </tr>\n",
       "    <tr>\n",
       "      <th>company_size</th>\n",
       "      <td>245.0</td>\n",
       "      <td>0.697959</td>\n",
       "      <td>0.828906</td>\n",
       "      <td>0.0</td>\n",
       "      <td>0.0</td>\n",
       "      <td>0.0</td>\n",
       "      <td>1.0</td>\n",
       "      <td>2.0</td>\n",
       "    </tr>\n",
       "    <tr>\n",
       "      <th>label</th>\n",
       "      <td>245.0</td>\n",
       "      <td>2.110204</td>\n",
       "      <td>1.557668</td>\n",
       "      <td>0.0</td>\n",
       "      <td>1.0</td>\n",
       "      <td>1.0</td>\n",
       "      <td>4.0</td>\n",
       "      <td>4.0</td>\n",
       "    </tr>\n",
       "  </tbody>\n",
       "</table>\n",
       "</div>"
      ],
      "text/plain": [
       "                    count          mean           std     min      25%  \\\n",
       "work_year           245.0   2020.730612      0.444550  2020.0   2020.0   \n",
       "experience_level    245.0      1.828571      1.102902     0.0      1.0   \n",
       "employment_type     245.0      1.983673      0.326021     0.0      2.0   \n",
       "job_title           245.0     20.077551      9.888627     0.0     15.0   \n",
       "salary_in_usd       245.0  99868.012245  83983.326949  2876.0  45896.0   \n",
       "employee_residence  245.0     27.167347     14.978145     0.0     12.0   \n",
       "remote_ratio        245.0     69.183673     37.593421     0.0     50.0   \n",
       "company_location    245.0     26.248980     13.301333     0.0     13.0   \n",
       "company_size        245.0      0.697959      0.828906     0.0      0.0   \n",
       "label               245.0      2.110204      1.557668     0.0      1.0   \n",
       "\n",
       "                        50%       75%       max  \n",
       "work_year            2021.0    2021.0    2021.0  \n",
       "experience_level        2.0       3.0       3.0  \n",
       "employment_type         2.0       2.0       3.0  \n",
       "job_title              20.0      27.0      42.0  \n",
       "salary_in_usd       81000.0  130000.0  600000.0  \n",
       "employee_residence     29.0      43.0      44.0  \n",
       "remote_ratio          100.0     100.0     100.0  \n",
       "company_location       31.0      39.0      40.0  \n",
       "company_size            0.0       1.0       2.0  \n",
       "label                   1.0       4.0       4.0  "
      ]
     },
     "execution_count": 188,
     "metadata": {},
     "output_type": "execute_result"
    }
   ],
   "source": [
    "numericData.describe().T"
   ]
  },
  {
   "cell_type": "code",
   "execution_count": 189,
   "id": "49eccd7e",
   "metadata": {},
   "outputs": [
    {
     "data": {
      "text/html": [
       "<div>\n",
       "<style scoped>\n",
       "    .dataframe tbody tr th:only-of-type {\n",
       "        vertical-align: middle;\n",
       "    }\n",
       "\n",
       "    .dataframe tbody tr th {\n",
       "        vertical-align: top;\n",
       "    }\n",
       "\n",
       "    .dataframe thead th {\n",
       "        text-align: right;\n",
       "    }\n",
       "</style>\n",
       "<table border=\"1\" class=\"dataframe\">\n",
       "  <thead>\n",
       "    <tr style=\"text-align: right;\">\n",
       "      <th></th>\n",
       "      <th>work_year</th>\n",
       "      <th>experience_level</th>\n",
       "      <th>employment_type</th>\n",
       "      <th>job_title</th>\n",
       "      <th>salary_in_usd</th>\n",
       "      <th>employee_residence</th>\n",
       "      <th>remote_ratio</th>\n",
       "      <th>company_location</th>\n",
       "      <th>company_size</th>\n",
       "      <th>label</th>\n",
       "    </tr>\n",
       "  </thead>\n",
       "  <tbody>\n",
       "    <tr>\n",
       "      <th>0</th>\n",
       "      <td>2021.0</td>\n",
       "      <td>3.0</td>\n",
       "      <td>2.0</td>\n",
       "      <td>20.0</td>\n",
       "      <td>87961.0</td>\n",
       "      <td>5.0</td>\n",
       "      <td>100.0</td>\n",
       "      <td>5.0</td>\n",
       "      <td>2.0</td>\n",
       "      <td>4.0</td>\n",
       "    </tr>\n",
       "    <tr>\n",
       "      <th>1</th>\n",
       "      <td>2021.0</td>\n",
       "      <td>3.0</td>\n",
       "      <td>2.0</td>\n",
       "      <td>20.0</td>\n",
       "      <td>87961.0</td>\n",
       "      <td>5.0</td>\n",
       "      <td>100.0</td>\n",
       "      <td>5.0</td>\n",
       "      <td>2.0</td>\n",
       "      <td>4.0</td>\n",
       "    </tr>\n",
       "    <tr>\n",
       "      <th>2</th>\n",
       "      <td>2021.0</td>\n",
       "      <td>3.0</td>\n",
       "      <td>2.0</td>\n",
       "      <td>21.0</td>\n",
       "      <td>165000.0</td>\n",
       "      <td>43.0</td>\n",
       "      <td>100.0</td>\n",
       "      <td>39.0</td>\n",
       "      <td>0.0</td>\n",
       "      <td>3.0</td>\n",
       "    </tr>\n",
       "    <tr>\n",
       "      <th>3</th>\n",
       "      <td>2021.0</td>\n",
       "      <td>3.0</td>\n",
       "      <td>2.0</td>\n",
       "      <td>20.0</td>\n",
       "      <td>87961.0</td>\n",
       "      <td>5.0</td>\n",
       "      <td>100.0</td>\n",
       "      <td>5.0</td>\n",
       "      <td>2.0</td>\n",
       "      <td>4.0</td>\n",
       "    </tr>\n",
       "    <tr>\n",
       "      <th>4</th>\n",
       "      <td>2020.0</td>\n",
       "      <td>3.0</td>\n",
       "      <td>2.0</td>\n",
       "      <td>15.0</td>\n",
       "      <td>188000.0</td>\n",
       "      <td>43.0</td>\n",
       "      <td>100.0</td>\n",
       "      <td>39.0</td>\n",
       "      <td>0.0</td>\n",
       "      <td>1.0</td>\n",
       "    </tr>\n",
       "  </tbody>\n",
       "</table>\n",
       "</div>"
      ],
      "text/plain": [
       "   work_year  experience_level  employment_type  job_title  salary_in_usd  \\\n",
       "0     2021.0               3.0              2.0       20.0        87961.0   \n",
       "1     2021.0               3.0              2.0       20.0        87961.0   \n",
       "2     2021.0               3.0              2.0       21.0       165000.0   \n",
       "3     2021.0               3.0              2.0       20.0        87961.0   \n",
       "4     2020.0               3.0              2.0       15.0       188000.0   \n",
       "\n",
       "   employee_residence  remote_ratio  company_location  company_size  label  \n",
       "0                 5.0         100.0               5.0           2.0    4.0  \n",
       "1                 5.0         100.0               5.0           2.0    4.0  \n",
       "2                43.0         100.0              39.0           0.0    3.0  \n",
       "3                 5.0         100.0               5.0           2.0    4.0  \n",
       "4                43.0         100.0              39.0           0.0    1.0  "
      ]
     },
     "execution_count": 189,
     "metadata": {},
     "output_type": "execute_result"
    }
   ],
   "source": [
    "ProcessingData.shuffle(numericData)\n",
    "processedData=df.copy(True)\n",
    "numericData.head()"
   ]
  },
  {
   "cell_type": "code",
   "execution_count": 190,
   "id": "f5f388d1",
   "metadata": {},
   "outputs": [],
   "source": [
    "trainData,testData=ProcessingData.splitSet(processedData,0.7)"
   ]
  },
  {
   "cell_type": "code",
   "execution_count": 191,
   "id": "97cc7f16",
   "metadata": {},
   "outputs": [],
   "source": [
    "#Zapisanie dataframe do pliku\n",
    "trainData.to_csv('TrainDataSalaries.csv',index=False)\n",
    "testData.to_csv('TestDataSalaries.csv',index=False)"
   ]
  },
  {
   "cell_type": "code",
   "execution_count": 192,
   "id": "bdc2b2f0",
   "metadata": {},
   "outputs": [],
   "source": [
    "#Klasyfikacja k najbliższych sąsiadów z podziałem na kategorie\n",
    "class KNNCategory:\n",
    "    \n",
    "    \n",
    "    @staticmethod\n",
    "    def taxi(x,y):\n",
    "        s=0\n",
    "        for k in range(len(y)):\n",
    "            s+=abs(x[k]-y[k])\n",
    "        return s\n",
    "    \n",
    "    @staticmethod\n",
    "    def minkowski(v1,v2,m):\n",
    "        distance=0\n",
    "        for e in range(0,len(v1)):\n",
    "            distance+=abs(v1[e]-v2[e])**m\n",
    "        return distance**(1/m)\n",
    "    \n",
    "    @staticmethod\n",
    "    def clustering(data,sample,k,objects,labels,typeOfCalculation,colName):\n",
    "        \n",
    "        distances=[]\n",
    "        classesJobTitle=[0 for x in range(len(objects))] #wszytskie stanowiska pracy\n",
    "        classesLabels=[0 for x in range(len(labels))] #wszytskie kategoire\n",
    "        #liczy dystans do każdego rekordu od sample\n",
    "        for x in range(len(data)):\n",
    "            #print(data.iloc[x])\n",
    "            if typeOfCalculation==0:\n",
    "                distances.append(KNNCategory.minkowski(sample,data.iloc[x],2))\n",
    "            elif typeOfCalculation==1:\n",
    "                distances.append(KNNCategory.taxi(sample,data.iloc[x]))\n",
    "            \n",
    "\n",
    "        \n",
    "        #sortuje według dodanej kolumny odległości, od najmniejszej do największej\n",
    "        data=data.assign(dist=distances)\n",
    "        data=data.sort_values(by=['dist'])\n",
    "       \n",
    "        #Liczy dla k pierwszych rekordów z data jakiego typu są te wartości\n",
    "       \n",
    "        for i in range(0,k):\n",
    "            classesLabels[int(data.iloc[i].label)]+=1\n",
    "        labelResult = classesLabels.index(max(classesLabels))\n",
    "        \n",
    "        #Wybiera rekordy z danej kategorii\n",
    "        data1=data.loc[data['label']==labelResult ] \n",
    "        \n",
    "        #sortuje według dodanej kolumny odległości, od najmniejszej do największej\n",
    "        #data1=data1.assign(dist=distances)\n",
    "        data1=data1.sort_values(by=['dist'])\n",
    "        data1=data1.drop(['dist'],axis=1)\n",
    "        K=k\n",
    "        if len(data1)<k:\n",
    "            K=len(data1)\n",
    "        \n",
    "        #Liczy dla k pierwszych rekordów z data jakiego typu są te wartości\n",
    "        for i in range(0,K):\n",
    "            classesJobTitle[int(data1.iloc[i].at[colName])]+=1 \n",
    "        return classesJobTitle.index(max(classesJobTitle))"
   ]
  },
  {
   "cell_type": "code",
   "execution_count": 193,
   "id": "a4dc11ba",
   "metadata": {},
   "outputs": [
    {
     "data": {
      "text/plain": [
       "['Analyst', 'Engineer', 'Leader position', 'Rest', 'Scientist']"
      ]
     },
     "execution_count": 193,
     "metadata": {},
     "output_type": "execute_result"
    }
   ],
   "source": [
    "dfCopy['label'].cat.categories.tolist()"
   ]
  },
  {
   "cell_type": "code",
   "execution_count": 148,
   "id": "5c04b508",
   "metadata": {},
   "outputs": [
    {
     "data": {
      "text/plain": [
       "20"
      ]
     },
     "execution_count": 148,
     "metadata": {},
     "output_type": "execute_result"
    }
   ],
   "source": [
    "KNNCategory.clustering(trainData,testData.iloc[0],3,dfCopy['job_title'].cat.categories.tolist(),dfCopy['label'].cat.categories.tolist(),1,'job_title')"
   ]
  },
  {
   "cell_type": "code",
   "execution_count": 150,
   "id": "38e2fb3a",
   "metadata": {},
   "outputs": [
    {
     "data": {
      "text/plain": [
       "'Data Scientist'"
      ]
     },
     "execution_count": 150,
     "metadata": {},
     "output_type": "execute_result"
    }
   ],
   "source": [
    "dfCopy['job_title'].cat.categories[20]"
   ]
  },
  {
   "cell_type": "code",
   "execution_count": 194,
   "id": "915dda3b",
   "metadata": {},
   "outputs": [],
   "source": [
    "\n",
    "#Analiza dokładności\n",
    "class Analize:\n",
    "\n",
    "    \n",
    "    @staticmethod\n",
    "    def analizeKNNCategory(train,test,k,objects,labels,typeOfCalculation,colName):\n",
    "        c=0\n",
    "        for x in range(0,len(test)):\n",
    "            if(test.iloc[x].at[colName]==KNNCategory.clustering(train,test.iloc[x],k,objects,labels,typeOfCalculation,colName)):\n",
    "                c+=1\n",
    "        return c/len(test)*100\n",
    "\n",
    "    @staticmethod\n",
    "    def analizeKNN(train,test,k,objects,typeOfCalculation,colName):\n",
    "        c=0\n",
    "        for x in range(0,len(test)):\n",
    "            if(test.iloc[x].at[colName]==KNN.clustering(train,test.iloc[x],k,objects,typeOfCalculation,colName)):\n",
    "                c+=1\n",
    "        return c/len(test)*100"
   ]
  },
  {
   "cell_type": "code",
   "execution_count": 152,
   "id": "2e547cf9",
   "metadata": {
    "scrolled": true
   },
   "outputs": [
    {
     "name": "stdout",
     "output_type": "stream",
     "text": [
      "[39.189189189189186, 39.189189189189186, 36.486486486486484, 32.432432432432435, 32.432432432432435, 27.027027027027028, 27.027027027027028, 28.37837837837838, 29.72972972972973, 31.08108108108108, 31.08108108108108, 29.72972972972973, 27.027027027027028, 24.324324324324326]\n",
      "[39.189189189189186, 39.189189189189186, 36.486486486486484, 32.432432432432435, 32.432432432432435, 27.027027027027028, 27.027027027027028, 28.37837837837838, 29.72972972972973, 31.08108108108108, 31.08108108108108, 29.72972972972973, 27.027027027027028, 24.324324324324326]\n"
     ]
    }
   ],
   "source": [
    "#Analiza poprawnego k oraz dla danych znormalizownaych oraz nieznormalizowanych \n",
    "\n",
    "rangeOfK=[x for x in range(2,16)]\n",
    "#Dane nieznormalizowane k w zakresie od \n",
    "knnCatWyniki=[]\n",
    "for t in range(0,2):\n",
    "    solution=[]\n",
    "    for k in rangeOfK:    \n",
    "        tmpTrain,tmpTest=ProcessingData.splitSet(df,0.7)\n",
    "        solution.append(Analize.analizeKNNCategory(tmpTrain,tmpTest,k,dfCopy['job_title'].cat.categories.tolist(),dfCopy['label'].cat.categories.tolist(),t,'job_title'))\n",
    "    print(solution)\n",
    "    knnCatWyniki.append(solution)\n",
    "#MINKOWKSI, TAXI\n",
    "#TAXI najlepsza ale i tak słaba możńa spróbowac z innym sposobem podziału np 30:70"
   ]
  },
  {
   "cell_type": "code",
   "execution_count": 97,
   "id": "00774cc1",
   "metadata": {},
   "outputs": [
    {
     "name": "stdout",
     "output_type": "stream",
     "text": [
      "            0\n",
      "2   35.135135\n",
      "3   35.135135\n",
      "4   29.729730\n",
      "5   31.081081\n",
      "6   27.027027\n",
      "7   28.378378\n",
      "8   22.972973\n",
      "9   28.378378\n",
      "10  27.027027\n",
      "11  25.675676\n",
      "12  25.675676\n",
      "13  25.675676\n",
      "14  24.324324\n",
      "15  22.972973\n"
     ]
    },
    {
     "data": {
      "text/plain": [
       "<AxesSubplot:xlabel='k', ylabel='accuracy'>"
      ]
     },
     "execution_count": 97,
     "metadata": {},
     "output_type": "execute_result"
    },
    {
     "data": {
      "text/plain": [
       "<Figure size 432x288 with 0 Axes>"
      ]
     },
     "metadata": {},
     "output_type": "display_data"
    },
    {
     "data": {
      "image/png": "[encoded data removed]",
      "text/plain": [
       "<Figure size 720x288 with 1 Axes>"
      ]
     },
     "metadata": {
      "needs_background": "light"
     },
     "output_type": "display_data"
    }
   ],
   "source": [
    "#Wykres dokładności nieznormalizowancyh danych MINKOWSKI\n",
    "data=pd.DataFrame(knnCatWyniki[0],rangeOfK)\n",
    "print(data)\n",
    "plt.figure()\n",
    "data.plot(xlabel=\"k\",ylabel=\"accuracy\",marker=\".\",figsize=(10,4))"
   ]
  },
  {
   "cell_type": "code",
   "execution_count": 98,
   "id": "3776c37f",
   "metadata": {},
   "outputs": [
    {
     "name": "stdout",
     "output_type": "stream",
     "text": [
      "            0\n",
      "2   36.486486\n",
      "3   36.486486\n",
      "4   29.729730\n",
      "5   31.081081\n",
      "6   27.027027\n",
      "7   28.378378\n",
      "8   22.972973\n",
      "9   28.378378\n",
      "10  27.027027\n",
      "11  25.675676\n",
      "12  25.675676\n",
      "13  25.675676\n",
      "14  24.324324\n",
      "15  22.972973\n"
     ]
    },
    {
     "data": {
      "text/plain": [
       "<AxesSubplot:xlabel='k', ylabel='accuracy'>"
      ]
     },
     "execution_count": 98,
     "metadata": {},
     "output_type": "execute_result"
    },
    {
     "data": {
      "text/plain": [
       "<Figure size 432x288 with 0 Axes>"
      ]
     },
     "metadata": {},
     "output_type": "display_data"
    },
    {
     "data": {
      "image/png": "[encoded data removed]",
      "text/plain": [
       "<Figure size 720x288 with 1 Axes>"
      ]
     },
     "metadata": {
      "needs_background": "light"
     },
     "output_type": "display_data"
    }
   ],
   "source": [
    "#Wykres dokładności nieznormalizowancyh danych TAXI\n",
    "data=pd.DataFrame(knnCatWyniki[1],rangeOfK)\n",
    "print(data)\n",
    "plt.figure()\n",
    "data.plot(xlabel=\"k\",ylabel=\"accuracy\",marker=\".\",figsize=(10,4))"
   ]
  },
  {
   "cell_type": "code",
   "execution_count": 82,
   "id": "6a1a0532",
   "metadata": {},
   "outputs": [
    {
     "data": {
      "text/html": [
       "<div>\n",
       "<style scoped>\n",
       "    .dataframe tbody tr th:only-of-type {\n",
       "        vertical-align: middle;\n",
       "    }\n",
       "\n",
       "    .dataframe tbody tr th {\n",
       "        vertical-align: top;\n",
       "    }\n",
       "\n",
       "    .dataframe thead th {\n",
       "        text-align: right;\n",
       "    }\n",
       "</style>\n",
       "<table border=\"1\" class=\"dataframe\">\n",
       "  <thead>\n",
       "    <tr style=\"text-align: right;\">\n",
       "      <th></th>\n",
       "      <th>work_year</th>\n",
       "      <th>experience_level</th>\n",
       "      <th>employment_type</th>\n",
       "      <th>job_title</th>\n",
       "      <th>salary_in_usd</th>\n",
       "      <th>employee_residence</th>\n",
       "      <th>remote_ratio</th>\n",
       "      <th>company_location</th>\n",
       "      <th>company_size</th>\n",
       "      <th>label</th>\n",
       "    </tr>\n",
       "  </thead>\n",
       "  <tbody>\n",
       "    <tr>\n",
       "      <th>0</th>\n",
       "      <td>1.0</td>\n",
       "      <td>0.000000</td>\n",
       "      <td>0.666667</td>\n",
       "      <td>1.000</td>\n",
       "      <td>0.134183</td>\n",
       "      <td>0.279070</td>\n",
       "      <td>0.5</td>\n",
       "      <td>0.333333</td>\n",
       "      <td>0.0</td>\n",
       "      <td>1.0</td>\n",
       "    </tr>\n",
       "    <tr>\n",
       "      <th>1</th>\n",
       "      <td>0.0</td>\n",
       "      <td>0.000000</td>\n",
       "      <td>0.666667</td>\n",
       "      <td>0.475</td>\n",
       "      <td>0.081131</td>\n",
       "      <td>0.255814</td>\n",
       "      <td>0.0</td>\n",
       "      <td>0.307692</td>\n",
       "      <td>1.0</td>\n",
       "      <td>1.0</td>\n",
       "    </tr>\n",
       "    <tr>\n",
       "      <th>2</th>\n",
       "      <td>1.0</td>\n",
       "      <td>0.000000</td>\n",
       "      <td>0.666667</td>\n",
       "      <td>0.250</td>\n",
       "      <td>0.145906</td>\n",
       "      <td>0.976744</td>\n",
       "      <td>1.0</td>\n",
       "      <td>0.974359</td>\n",
       "      <td>1.0</td>\n",
       "      <td>0.0</td>\n",
       "    </tr>\n",
       "    <tr>\n",
       "      <th>3</th>\n",
       "      <td>0.0</td>\n",
       "      <td>0.000000</td>\n",
       "      <td>0.666667</td>\n",
       "      <td>0.475</td>\n",
       "      <td>0.081131</td>\n",
       "      <td>0.255814</td>\n",
       "      <td>0.0</td>\n",
       "      <td>0.307692</td>\n",
       "      <td>1.0</td>\n",
       "      <td>1.0</td>\n",
       "    </tr>\n",
       "    <tr>\n",
       "      <th>4</th>\n",
       "      <td>1.0</td>\n",
       "      <td>0.666667</td>\n",
       "      <td>0.666667</td>\n",
       "      <td>0.475</td>\n",
       "      <td>0.000000</td>\n",
       "      <td>0.604651</td>\n",
       "      <td>0.0</td>\n",
       "      <td>0.666667</td>\n",
       "      <td>1.0</td>\n",
       "      <td>1.0</td>\n",
       "    </tr>\n",
       "  </tbody>\n",
       "</table>\n",
       "</div>"
      ],
      "text/plain": [
       "   work_year  experience_level  employment_type  job_title  salary_in_usd  \\\n",
       "0        1.0          0.000000         0.666667      1.000       0.134183   \n",
       "1        0.0          0.000000         0.666667      0.475       0.081131   \n",
       "2        1.0          0.000000         0.666667      0.250       0.145906   \n",
       "3        0.0          0.000000         0.666667      0.475       0.081131   \n",
       "4        1.0          0.666667         0.666667      0.475       0.000000   \n",
       "\n",
       "   employee_residence  remote_ratio  company_location  company_size  label  \n",
       "0            0.279070           0.5          0.333333           0.0    1.0  \n",
       "1            0.255814           0.0          0.307692           1.0    1.0  \n",
       "2            0.976744           1.0          0.974359           1.0    0.0  \n",
       "3            0.255814           0.0          0.307692           1.0    1.0  \n",
       "4            0.604651           0.0          0.666667           1.0    1.0  "
      ]
     },
     "execution_count": 82,
     "metadata": {},
     "output_type": "execute_result"
    }
   ],
   "source": [
    "#Analiza dla znormalizowanych\n",
    "normalizedData=df.copy(True)\n",
    "ProcessingData.normalize(normalizedData)\n",
    "normalizedData.head()"
   ]
  },
  {
   "cell_type": "code",
   "execution_count": 58,
   "id": "fd40cd99",
   "metadata": {},
   "outputs": [
    {
     "name": "stdout",
     "output_type": "stream",
     "text": [
      "[6.756756756756757, 6.756756756756757, 6.756756756756757, 6.756756756756757, 6.756756756756757, 6.756756756756757, 5.405405405405405, 5.405405405405405, 5.405405405405405, 6.756756756756757, 6.756756756756757, 6.756756756756757, 6.756756756756757, 6.756756756756757]\n",
      "[6.756756756756757, 6.756756756756757, 6.756756756756757, 6.756756756756757, 6.756756756756757, 6.756756756756757, 5.405405405405405, 5.405405405405405, 5.405405405405405, 5.405405405405405, 5.405405405405405, 5.405405405405405, 5.405405405405405, 6.756756756756757]\n"
     ]
    }
   ],
   "source": [
    "knnCatWynikiN=[]\n",
    "for t in range(0,2):\n",
    "    solution=[]\n",
    "    for k in rangeOfK:    \n",
    "        tmpTrain,tmpTest=ProcessingData.splitSet(df,0.7)\n",
    "        solution.append(Analize.analizeKNNCategory(tmpTrain,tmpTest,k,dfCopy['job_title'].cat.categories.tolist(),dfCopy['label'].cat.categories.tolist(),t))\n",
    "    print(solution)\n",
    "    knnCatWynikiN.append(solution)\n",
    "#Bardzo mała dokładność.\n",
    "#Próba normalizacji dla samej kolumny wypłaty."
   ]
  },
  {
   "cell_type": "code",
   "execution_count": 100,
   "id": "15f2b813",
   "metadata": {},
   "outputs": [
    {
     "name": "stdout",
     "output_type": "stream",
     "text": [
      "           0\n",
      "2   6.756757\n",
      "3   6.756757\n",
      "4   6.756757\n",
      "5   6.756757\n",
      "6   6.756757\n",
      "7   6.756757\n",
      "8   5.405405\n",
      "9   5.405405\n",
      "10  5.405405\n",
      "11  6.756757\n",
      "12  6.756757\n",
      "13  6.756757\n",
      "14  6.756757\n",
      "15  6.756757\n"
     ]
    },
    {
     "data": {
      "text/plain": [
       "<AxesSubplot:xlabel='k', ylabel='accuracy'>"
      ]
     },
     "execution_count": 100,
     "metadata": {},
     "output_type": "execute_result"
    },
    {
     "data": {
      "text/plain": [
       "<Figure size 432x288 with 0 Axes>"
      ]
     },
     "metadata": {},
     "output_type": "display_data"
    },
    {
     "data": {
      "image/png": "[encoded data removed]",
      "text/plain": [
       "<Figure size 720x288 with 1 Axes>"
      ]
     },
     "metadata": {
      "needs_background": "light"
     },
     "output_type": "display_data"
    }
   ],
   "source": [
    "#Wykres dokładności znormalizowancyh danych MINKOWSKI\n",
    "data=pd.DataFrame(knnCatWynikiN[0],rangeOfK)\n",
    "print(data)\n",
    "plt.figure()\n",
    "data.plot(xlabel=\"k\",ylabel=\"accuracy\",marker=\".\",figsize=(10,4))"
   ]
  },
  {
   "cell_type": "code",
   "execution_count": 104,
   "id": "ab88f038",
   "metadata": {},
   "outputs": [
    {
     "name": "stdout",
     "output_type": "stream",
     "text": [
      "           0\n",
      "2   6.756757\n",
      "3   6.756757\n",
      "4   6.756757\n",
      "5   6.756757\n",
      "6   6.756757\n",
      "7   6.756757\n",
      "8   5.405405\n",
      "9   5.405405\n",
      "10  5.405405\n",
      "11  5.405405\n",
      "12  5.405405\n",
      "13  5.405405\n",
      "14  5.405405\n",
      "15  6.756757\n"
     ]
    },
    {
     "data": {
      "text/plain": [
       "<AxesSubplot:xlabel='k', ylabel='accuracy'>"
      ]
     },
     "execution_count": 104,
     "metadata": {},
     "output_type": "execute_result"
    },
    {
     "data": {
      "text/plain": [
       "<Figure size 432x288 with 0 Axes>"
      ]
     },
     "metadata": {},
     "output_type": "display_data"
    },
    {
     "data": {
      "image/png": "[encoded data removed]",
      "text/plain": [
       "<Figure size 720x288 with 1 Axes>"
      ]
     },
     "metadata": {
      "needs_background": "light"
     },
     "output_type": "display_data"
    }
   ],
   "source": [
    "#Wykres dokładności znormalizowancyh danych TAXI\n",
    "data=pd.DataFrame(knnCatWynikiN[1],rangeOfK)\n",
    "print(data)\n",
    "plt.figure()\n",
    "data.plot(xlabel=\"k\",ylabel=\"accuracy\",marker=\".\",figsize=(10,4))\n",
    "#Brak róznych wyników może wynikać z małych zakresów,małej różnorodności dancyh po normalizacji, mniejszych odległości, więc gorszej klasyfikacji."
   ]
  },
  {
   "cell_type": "code",
   "execution_count": 85,
   "id": "3b53deb9",
   "metadata": {},
   "outputs": [
    {
     "data": {
      "text/html": [
       "<div>\n",
       "<style scoped>\n",
       "    .dataframe tbody tr th:only-of-type {\n",
       "        vertical-align: middle;\n",
       "    }\n",
       "\n",
       "    .dataframe tbody tr th {\n",
       "        vertical-align: top;\n",
       "    }\n",
       "\n",
       "    .dataframe thead th {\n",
       "        text-align: right;\n",
       "    }\n",
       "</style>\n",
       "<table border=\"1\" class=\"dataframe\">\n",
       "  <thead>\n",
       "    <tr style=\"text-align: right;\">\n",
       "      <th></th>\n",
       "      <th>work_year</th>\n",
       "      <th>experience_level</th>\n",
       "      <th>employment_type</th>\n",
       "      <th>job_title</th>\n",
       "      <th>salary_in_usd</th>\n",
       "      <th>employee_residence</th>\n",
       "      <th>remote_ratio</th>\n",
       "      <th>company_location</th>\n",
       "      <th>company_size</th>\n",
       "      <th>label</th>\n",
       "    </tr>\n",
       "  </thead>\n",
       "  <tbody>\n",
       "    <tr>\n",
       "      <th>0</th>\n",
       "      <td>2021.0</td>\n",
       "      <td>0.0</td>\n",
       "      <td>2.0</td>\n",
       "      <td>41.0</td>\n",
       "      <td>0.134183</td>\n",
       "      <td>13.0</td>\n",
       "      <td>50.0</td>\n",
       "      <td>14.0</td>\n",
       "      <td>0.0</td>\n",
       "      <td>4.0</td>\n",
       "    </tr>\n",
       "    <tr>\n",
       "      <th>1</th>\n",
       "      <td>2020.0</td>\n",
       "      <td>0.0</td>\n",
       "      <td>2.0</td>\n",
       "      <td>20.0</td>\n",
       "      <td>0.081131</td>\n",
       "      <td>12.0</td>\n",
       "      <td>0.0</td>\n",
       "      <td>13.0</td>\n",
       "      <td>2.0</td>\n",
       "      <td>4.0</td>\n",
       "    </tr>\n",
       "    <tr>\n",
       "      <th>2</th>\n",
       "      <td>2021.0</td>\n",
       "      <td>0.0</td>\n",
       "      <td>2.0</td>\n",
       "      <td>11.0</td>\n",
       "      <td>0.145906</td>\n",
       "      <td>43.0</td>\n",
       "      <td>100.0</td>\n",
       "      <td>39.0</td>\n",
       "      <td>2.0</td>\n",
       "      <td>0.0</td>\n",
       "    </tr>\n",
       "    <tr>\n",
       "      <th>3</th>\n",
       "      <td>2020.0</td>\n",
       "      <td>0.0</td>\n",
       "      <td>2.0</td>\n",
       "      <td>20.0</td>\n",
       "      <td>0.081131</td>\n",
       "      <td>12.0</td>\n",
       "      <td>0.0</td>\n",
       "      <td>13.0</td>\n",
       "      <td>2.0</td>\n",
       "      <td>4.0</td>\n",
       "    </tr>\n",
       "    <tr>\n",
       "      <th>4</th>\n",
       "      <td>2021.0</td>\n",
       "      <td>2.0</td>\n",
       "      <td>2.0</td>\n",
       "      <td>20.0</td>\n",
       "      <td>0.000000</td>\n",
       "      <td>27.0</td>\n",
       "      <td>0.0</td>\n",
       "      <td>27.0</td>\n",
       "      <td>2.0</td>\n",
       "      <td>4.0</td>\n",
       "    </tr>\n",
       "  </tbody>\n",
       "</table>\n",
       "</div>"
      ],
      "text/plain": [
       "   work_year  experience_level  employment_type  job_title  salary_in_usd  \\\n",
       "0     2021.0               0.0              2.0       41.0       0.134183   \n",
       "1     2020.0               0.0              2.0       20.0       0.081131   \n",
       "2     2021.0               0.0              2.0       11.0       0.145906   \n",
       "3     2020.0               0.0              2.0       20.0       0.081131   \n",
       "4     2021.0               2.0              2.0       20.0       0.000000   \n",
       "\n",
       "   employee_residence  remote_ratio  company_location  company_size  label  \n",
       "0                13.0          50.0              14.0           0.0    4.0  \n",
       "1                12.0           0.0              13.0           2.0    4.0  \n",
       "2                43.0         100.0              39.0           2.0    0.0  \n",
       "3                12.0           0.0              13.0           2.0    4.0  \n",
       "4                27.0           0.0              27.0           2.0    4.0  "
      ]
     },
     "execution_count": 85,
     "metadata": {},
     "output_type": "execute_result"
    }
   ],
   "source": [
    "#Analiza dokładności dla normalizacji samej kolumny wypłata\n",
    "ProcessingData.normalize(processedData,'salary_in_usd')\n",
    "processedData.head()"
   ]
  },
  {
   "cell_type": "code",
   "execution_count": 78,
   "id": "7e4f5e4d",
   "metadata": {},
   "outputs": [
    {
     "name": "stdout",
     "output_type": "stream",
     "text": [
      "[48.64864864864865, 48.64864864864865, 44.5945945945946, 43.24324324324324, 35.13513513513514, 35.13513513513514, 33.78378378378378, 28.37837837837838, 28.37837837837838, 25.675675675675674, 22.972972972972975, 27.027027027027028, 27.027027027027028, 27.027027027027028]\n",
      "[52.702702702702695, 50.0, 44.5945945945946, 44.5945945945946, 40.54054054054054, 39.189189189189186, 40.54054054054054, 33.78378378378378, 31.08108108108108, 31.08108108108108, 27.027027027027028, 31.08108108108108, 31.08108108108108, 29.72972972972973]\n"
     ]
    }
   ],
   "source": [
    "knnCatWynikiNWyplata=[]\n",
    "for t in range(0,2):\n",
    "    solution=[]\n",
    "    for k in rangeOfK:    \n",
    "        tmpTrain,tmpTest=ProcessingData.splitSet(processedData,0.7)\n",
    "        solution.append(Analize.analizeKNNCategory(tmpTrain,tmpTest,k,dfCopy['job_title'].cat.categories.tolist(),dfCopy['label'].cat.categories.tolist(),t))\n",
    "    print(solution)\n",
    "    knnCatWynikiNWyplata.append(solution)\n",
    "\n",
    "#Próba normalizacji dla samej kolumny wypłaty.\n",
    "#Najlepsza dokładność ze wszytskich. Dane znormalizowane tylko dla kolumny salary_in_usd"
   ]
  },
  {
   "cell_type": "code",
   "execution_count": 102,
   "id": "098fda0e",
   "metadata": {},
   "outputs": [
    {
     "name": "stdout",
     "output_type": "stream",
     "text": [
      "            0\n",
      "2   48.648649\n",
      "3   48.648649\n",
      "4   44.594595\n",
      "5   43.243243\n",
      "6   35.135135\n",
      "7   35.135135\n",
      "8   33.783784\n",
      "9   28.378378\n",
      "10  28.378378\n",
      "11  25.675676\n",
      "12  22.972973\n",
      "13  27.027027\n",
      "14  27.027027\n",
      "15  27.027027\n"
     ]
    },
    {
     "data": {
      "text/plain": [
       "<AxesSubplot:xlabel='k', ylabel='accuracy'>"
      ]
     },
     "execution_count": 102,
     "metadata": {},
     "output_type": "execute_result"
    },
    {
     "data": {
      "text/plain": [
       "<Figure size 432x288 with 0 Axes>"
      ]
     },
     "metadata": {},
     "output_type": "display_data"
    },
    {
     "data": {
      "image/png": "[encoded data removed]",
      "text/plain": [
       "<Figure size 720x288 with 1 Axes>"
      ]
     },
     "metadata": {
      "needs_background": "light"
     },
     "output_type": "display_data"
    }
   ],
   "source": [
    "#Wykres dokładności znormalizowancyh danych dla kolumny wypłata MINKOWSKI\n",
    "data=pd.DataFrame(knnCatWynikiNWyplata[0],rangeOfK)\n",
    "print(data)\n",
    "plt.figure()\n",
    "data.plot(xlabel=\"k\",ylabel=\"accuracy\",marker=\".\",figsize=(10,4))"
   ]
  },
  {
   "cell_type": "code",
   "execution_count": 103,
   "id": "10d98238",
   "metadata": {},
   "outputs": [
    {
     "name": "stdout",
     "output_type": "stream",
     "text": [
      "            0\n",
      "2   52.702703\n",
      "3   50.000000\n",
      "4   44.594595\n",
      "5   44.594595\n",
      "6   40.540541\n",
      "7   39.189189\n",
      "8   40.540541\n",
      "9   33.783784\n",
      "10  31.081081\n",
      "11  31.081081\n",
      "12  27.027027\n",
      "13  31.081081\n",
      "14  31.081081\n",
      "15  29.729730\n"
     ]
    },
    {
     "data": {
      "text/plain": [
       "<AxesSubplot:xlabel='k', ylabel='accuracy'>"
      ]
     },
     "execution_count": 103,
     "metadata": {},
     "output_type": "execute_result"
    },
    {
     "data": {
      "text/plain": [
       "<Figure size 432x288 with 0 Axes>"
      ]
     },
     "metadata": {},
     "output_type": "display_data"
    },
    {
     "data": {
      "image/png": "[encoded data removed]",
      "text/plain": [
       "<Figure size 720x288 with 1 Axes>"
      ]
     },
     "metadata": {
      "needs_background": "light"
     },
     "output_type": "display_data"
    }
   ],
   "source": [
    "#Wykres dokładności znormalizowancyh danych dla kolumny wypłata TAXI\n",
    "data=pd.DataFrame(knnCatWynikiNWyplata[1],rangeOfK)\n",
    "print(data)\n",
    "plt.figure()\n",
    "data.plot(xlabel=\"k\",ylabel=\"accuracy\",marker=\".\",figsize=(10,4))"
   ]
  },
  {
   "cell_type": "code",
   "execution_count": 197,
   "id": "739c8f5d",
   "metadata": {},
   "outputs": [],
   "source": [
    "#Klasyfikacja k najbliższych sąsiadów\n",
    "class KNN:\n",
    "    @staticmethod\n",
    "    def taxi(x,y):\n",
    "        s=0\n",
    "        for k in range(len(y)):\n",
    "            s+=abs(x[k]-y[k])\n",
    "        return s\n",
    "    \n",
    "    @staticmethod\n",
    "    def minkowski(v1,v2,m):\n",
    "        distance=0\n",
    "        for e in range(0,len(v1)):\n",
    "            distance+=abs(v1[e]-v2[e])**m\n",
    "        #print(distance**(1/m))\n",
    "        return distance**(1/m)\n",
    "    \n",
    "    \n",
    "    @staticmethod\n",
    "    def clustering(data,sample,k,objects,typeOfCalculation,colName):\n",
    "        \n",
    "        distances=[]\n",
    "        #TODO: Klasy będą inne, bo będzie ich tyle ile mamy stanowisk pracy w obiekcie objects1\n",
    "        classes=[0 for x in range(len(objects))] #wszytskie stanowiska pracy\n",
    "        #classes = {1:0,2:0,3:0}\n",
    "        #liczy dystans do każdego rekordu od sample\n",
    "        for x in range(len(data)):\n",
    "            #print(data.iloc[x])\n",
    "            if typeOfCalculation==0:\n",
    "                distances.append(KNN.minkowski(sample,data.iloc[x],2))\n",
    "            elif typeOfCalculation==1:\n",
    "                distances.append(KNN.taxi(sample,data.iloc[x]))\n",
    "\n",
    "        #sortuje według dodanej kolumny odległości, od najmniejszej do największej\n",
    "        data=data.assign(dist=distances)\n",
    "        data=data.sort_values(by=['dist'])\n",
    "        data=data.drop(['dist'],axis=1)\n",
    "        \n",
    "        \n",
    "        \n",
    "        \n",
    "        #Liczy dla k pierwszych rekordów z data jakiego typu są te wartości\n",
    "        for i in range(0,k):\n",
    "            classes[int(data.at[i,colName])]+=1\n",
    "        #print(classes.index(max(classes)))\n",
    "        #return classes.index(max(classes)), \n",
    "        return classes.index(max(classes))"
   ]
  },
  {
   "cell_type": "code",
   "execution_count": 127,
   "id": "7424bc34",
   "metadata": {},
   "outputs": [
    {
     "name": "stdout",
     "output_type": "stream",
     "text": [
      "[5.405405405405405, 5.405405405405405, 5.405405405405405, 5.405405405405405, 5.405405405405405, 5.405405405405405, 5.405405405405405, 5.405405405405405, 5.405405405405405, 5.405405405405405, 5.405405405405405, 5.405405405405405, 5.405405405405405, 5.405405405405405]\n",
      "[5.405405405405405, 5.405405405405405, 5.405405405405405, 5.405405405405405, 5.405405405405405, 5.405405405405405, 5.405405405405405, 5.405405405405405, 5.405405405405405, 5.405405405405405, 5.405405405405405, 5.405405405405405, 5.405405405405405, 5.405405405405405]\n"
     ]
    }
   ],
   "source": [
    "#Analiza tylkko biorąc w knn job_title\n",
    "knnWynikiZnormalizowane=[]\n",
    "for t in range(0,2):\n",
    "    solution=[]\n",
    "    for k in rangeOfK:    \n",
    "        tmpTrain,tmpTest=ProcessingData.splitSet(normalizedData,0.7)\n",
    "        solution.append(Analize.analizeKNN(tmpTrain,tmpTest,k,dfCopy['job_title'].cat.categories.tolist(),t,'job_title'))\n",
    "    print(solution)\n",
    "    knnWynikiZnormalizowane.append(solution)\n"
   ]
  },
  {
   "cell_type": "code",
   "execution_count": null,
   "id": "05a36a15",
   "metadata": {},
   "outputs": [],
   "source": [
    "#Dla róznych kolumn chcę uzyskac najlepszy algorytm knn z k określonym i zapisac dokładność do DataFrame\n",
    "colNames=[\"job_title\",\"company_location\",\"employment_type\",\"company_size\"]\n",
    "\n",
    "finAccuracies=[]\n",
    "for c in [\"job_title\"]:    \n",
    "    for t in range(0,2):\n",
    "        accuracies=[]\n",
    "        for k in rangeOfK:\n",
    "            tmpTrain,tmpTest=ProcessingData.splitSet(processedData,0.7)\n",
    "            accuracies.append(Analize.analizeKNN(tmpTrain,tmpTest,k,dfCopy[c].cat.categories.tolist(),t,c))\n",
    "            print(accuracies)\n",
    "        finAccuracies.append([c,t,max(accuracies),rangeOfK[accuracies.index(max(accuracies))]])"
   ]
  },
  {
   "cell_type": "code",
   "execution_count": 105,
   "id": "3af3f315",
   "metadata": {},
   "outputs": [
    {
     "name": "stdout",
     "output_type": "stream",
     "text": [
      "           0\n",
      "2   5.405405\n",
      "3   5.405405\n",
      "4   5.405405\n",
      "5   5.405405\n",
      "6   5.405405\n",
      "7   5.405405\n",
      "8   5.405405\n",
      "9   5.405405\n",
      "10  5.405405\n",
      "11  5.405405\n",
      "12  5.405405\n",
      "13  5.405405\n",
      "14  5.405405\n",
      "15  5.405405\n"
     ]
    },
    {
     "data": {
      "text/plain": [
       "<AxesSubplot:xlabel='k', ylabel='accuracy'>"
      ]
     },
     "execution_count": 105,
     "metadata": {},
     "output_type": "execute_result"
    },
    {
     "data": {
      "text/plain": [
       "<Figure size 432x288 with 0 Axes>"
      ]
     },
     "metadata": {},
     "output_type": "display_data"
    },
    {
     "data": {
      "image/png": "[encoded data removed]",
      "text/plain": [
       "<Figure size 720x288 with 1 Axes>"
      ]
     },
     "metadata": {
      "needs_background": "light"
     },
     "output_type": "display_data"
    }
   ],
   "source": [
    "#Wykres dokładności znormalizowancyh danych dla kolumny wypłata MINKOWSKI\n",
    "data=pd.DataFrame(knnWynikiZnormalizowane[0],rangeOfK)\n",
    "print(data)\n",
    "plt.figure()\n",
    "data.plot(xlabel=\"k\",ylabel=\"accuracy\",marker=\".\",figsize=(10,4))"
   ]
  },
  {
   "cell_type": "code",
   "execution_count": 106,
   "id": "2a099c97",
   "metadata": {},
   "outputs": [
    {
     "name": "stdout",
     "output_type": "stream",
     "text": [
      "           0\n",
      "2   5.405405\n",
      "3   5.405405\n",
      "4   5.405405\n",
      "5   5.405405\n",
      "6   5.405405\n",
      "7   5.405405\n",
      "8   5.405405\n",
      "9   5.405405\n",
      "10  5.405405\n",
      "11  5.405405\n",
      "12  5.405405\n",
      "13  5.405405\n",
      "14  5.405405\n",
      "15  5.405405\n"
     ]
    },
    {
     "data": {
      "text/plain": [
       "<AxesSubplot:xlabel='k', ylabel='accuracy'>"
      ]
     },
     "execution_count": 106,
     "metadata": {},
     "output_type": "execute_result"
    },
    {
     "data": {
      "text/plain": [
       "<Figure size 432x288 with 0 Axes>"
      ]
     },
     "metadata": {},
     "output_type": "display_data"
    },
    {
     "data": {
      "image/png": "[encoded data removed]",
      "text/plain": [
       "<Figure size 720x288 with 1 Axes>"
      ]
     },
     "metadata": {
      "needs_background": "light"
     },
     "output_type": "display_data"
    }
   ],
   "source": [
    "#Wykres dokładności znormalizowancyh danych dla kolumny wypłata TAXI\n",
    "data=pd.DataFrame(knnWynikiZnormalizowane[1],rangeOfK)\n",
    "print(data)\n",
    "plt.figure()\n",
    "data.plot(xlabel=\"k\",ylabel=\"accuracy\",marker=\".\",figsize=(10,4))"
   ]
  },
  {
   "cell_type": "code",
   "execution_count": 89,
   "id": "0d72ea1b",
   "metadata": {},
   "outputs": [
    {
     "name": "stdout",
     "output_type": "stream",
     "text": [
      "[52.702702702702695, 47.2972972972973, 47.2972972972973, 47.2972972972973, 41.891891891891895, 36.486486486486484, 35.13513513513514, 31.08108108108108, 31.08108108108108, 28.37837837837838, 28.37837837837838, 31.08108108108108, 27.027027027027028, 29.72972972972973]\n",
      "[58.108108108108105, 52.702702702702695, 50.0, 45.94594594594595, 44.5945945945946, 37.83783783783784, 40.54054054054054, 36.486486486486484, 36.486486486486484, 35.13513513513514, 32.432432432432435, 35.13513513513514, 35.13513513513514, 35.13513513513514]\n"
     ]
    }
   ],
   "source": [
    "#Analiza znormalizowana dla kolumny wypłata\n",
    "knnWynikiZnormalizowaneWyplata=[]\n",
    "for t in range(0,2):\n",
    "    solution=[]\n",
    "    for k in rangeOfK:    \n",
    "        tmpTrain,tmpTest=ProcessingData.splitSet(processedData,0.7)\n",
    "        solution.append(Analize.analizeKNN(tmpTrain,tmpTest,k,dfCopy['job_title'].cat.categories.tolist(),t))\n",
    "    print(solution)\n",
    "    knnWynikiZnormalizowaneWyplata.append(solution)\n"
   ]
  },
  {
   "cell_type": "code",
   "execution_count": 107,
   "id": "5067f48b",
   "metadata": {},
   "outputs": [
    {
     "name": "stdout",
     "output_type": "stream",
     "text": [
      "            0\n",
      "2   47.297297\n",
      "3   45.945946\n",
      "4   45.945946\n",
      "5   45.945946\n",
      "6   40.540541\n",
      "7   35.135135\n",
      "8   33.783784\n",
      "9   31.081081\n",
      "10  31.081081\n",
      "11  31.081081\n",
      "12  28.378378\n",
      "13  31.081081\n",
      "14  27.027027\n",
      "15  29.729730\n"
     ]
    },
    {
     "data": {
      "text/plain": [
       "<AxesSubplot:xlabel='k', ylabel='accuracy'>"
      ]
     },
     "execution_count": 107,
     "metadata": {},
     "output_type": "execute_result"
    },
    {
     "data": {
      "text/plain": [
       "<Figure size 432x288 with 0 Axes>"
      ]
     },
     "metadata": {},
     "output_type": "display_data"
    },
    {
     "data": {
      "image/png": "[encoded data removed]",
      "text/plain": [
       "<Figure size 720x288 with 1 Axes>"
      ]
     },
     "metadata": {
      "needs_background": "light"
     },
     "output_type": "display_data"
    }
   ],
   "source": [
    "#Wykres dokładności znormalizowancyh danych dla kolumny wypłata MINKOWSKI\n",
    "data=pd.DataFrame(knnWynikiZnormalizowaneWyplata[0],rangeOfK)\n",
    "print(data)\n",
    "plt.figure()\n",
    "data.plot(xlabel=\"k\",ylabel=\"accuracy\",marker=\".\",figsize=(10,4))"
   ]
  },
  {
   "cell_type": "code",
   "execution_count": 108,
   "id": "6ad67cb6",
   "metadata": {},
   "outputs": [
    {
     "name": "stdout",
     "output_type": "stream",
     "text": [
      "            0\n",
      "2   52.702703\n",
      "3   48.648649\n",
      "4   45.945946\n",
      "5   44.594595\n",
      "6   43.243243\n",
      "7   36.486486\n",
      "8   39.189189\n",
      "9   37.837838\n",
      "10  37.837838\n",
      "11  37.837838\n",
      "12  35.135135\n",
      "13  37.837838\n",
      "14  31.081081\n",
      "15  33.783784\n"
     ]
    },
    {
     "data": {
      "text/plain": [
       "<AxesSubplot:xlabel='k', ylabel='accuracy'>"
      ]
     },
     "execution_count": 108,
     "metadata": {},
     "output_type": "execute_result"
    },
    {
     "data": {
      "text/plain": [
       "<Figure size 432x288 with 0 Axes>"
      ]
     },
     "metadata": {},
     "output_type": "display_data"
    },
    {
     "data": {
      "image/png": "[encoded data removed]",
      "text/plain": [
       "<Figure size 720x288 with 1 Axes>"
      ]
     },
     "metadata": {
      "needs_background": "light"
     },
     "output_type": "display_data"
    }
   ],
   "source": [
    "#Wykres dokładności znormalizowancyh danych dla kolumny wypłata TAXI\n",
    "data=pd.DataFrame(knnWynikiZnormalizowaneWyplata[1],rangeOfK)\n",
    "print(data)\n",
    "plt.figure()\n",
    "data.plot(xlabel=\"k\",ylabel=\"accuracy\",marker=\".\",figsize=(10,4))"
   ]
  },
  {
   "cell_type": "code",
   "execution_count": 90,
   "id": "07369a67",
   "metadata": {},
   "outputs": [
    {
     "name": "stdout",
     "output_type": "stream",
     "text": [
      "[40.54054054054054, 35.13513513513514, 31.08108108108108, 29.72972972972973, 31.08108108108108, 31.08108108108108, 32.432432432432435, 33.78378378378378, 28.37837837837838, 29.72972972972973, 28.37837837837838, 28.37837837837838, 28.37837837837838, 28.37837837837838]\n",
      "[41.891891891891895, 36.486486486486484, 31.08108108108108, 29.72972972972973, 31.08108108108108, 31.08108108108108, 32.432432432432435, 33.78378378378378, 28.37837837837838, 29.72972972972973, 28.37837837837838, 28.37837837837838, 28.37837837837838, 28.37837837837838]\n"
     ]
    }
   ],
   "source": [
    "#Analiza nieznormalizowana\n",
    "knnWynikiNieznormalizowane=[]\n",
    "for t in range(0,2):\n",
    "    solution=[]\n",
    "    for k in rangeOfK:    \n",
    "        tmpTrain,tmpTest=ProcessingData.splitSet(df,0.7)\n",
    "        solution.append(Analize.analizeKNN(tmpTrain,tmpTest,k,dfCopy['job_title'].cat.categories.tolist(),t))\n",
    "    print(solution)\n",
    "    knnWynikiNieznormalizowane.append(solution)\n"
   ]
  },
  {
   "cell_type": "code",
   "execution_count": 112,
   "id": "84001b6b",
   "metadata": {},
   "outputs": [
    {
     "name": "stdout",
     "output_type": "stream",
     "text": [
      "            0\n",
      "2   40.540541\n",
      "3   35.135135\n",
      "4   31.081081\n",
      "5   29.729730\n",
      "6   31.081081\n",
      "7   31.081081\n",
      "8   32.432432\n",
      "9   33.783784\n",
      "10  28.378378\n",
      "11  29.729730\n",
      "12  28.378378\n",
      "13  28.378378\n",
      "14  28.378378\n",
      "15  28.378378\n"
     ]
    },
    {
     "data": {
      "text/plain": [
       "<AxesSubplot:xlabel='k', ylabel='accuracy'>"
      ]
     },
     "execution_count": 112,
     "metadata": {},
     "output_type": "execute_result"
    },
    {
     "data": {
      "text/plain": [
       "<Figure size 432x288 with 0 Axes>"
      ]
     },
     "metadata": {},
     "output_type": "display_data"
    },
    {
     "data": {
      "image/png": "[encoded data removed]",
      "text/plain": [
       "<Figure size 720x288 with 1 Axes>"
      ]
     },
     "metadata": {
      "needs_background": "light"
     },
     "output_type": "display_data"
    }
   ],
   "source": [
    "#Wykres dokładności nieznormalizowanych danych MINKOWSKI\n",
    "data=pd.DataFrame(knnWynikiNieznormalizowane[0],rangeOfK)\n",
    "print(data)\n",
    "plt.figure()\n",
    "data.plot(xlabel=\"k\",ylabel=\"accuracy\",marker=\".\",figsize=(10,4))"
   ]
  },
  {
   "cell_type": "code",
   "execution_count": 113,
   "id": "4a73291b",
   "metadata": {},
   "outputs": [
    {
     "name": "stdout",
     "output_type": "stream",
     "text": [
      "            0\n",
      "2   41.891892\n",
      "3   36.486486\n",
      "4   31.081081\n",
      "5   29.729730\n",
      "6   31.081081\n",
      "7   31.081081\n",
      "8   32.432432\n",
      "9   33.783784\n",
      "10  28.378378\n",
      "11  29.729730\n",
      "12  28.378378\n",
      "13  28.378378\n",
      "14  28.378378\n",
      "15  28.378378\n"
     ]
    },
    {
     "data": {
      "text/plain": [
       "<AxesSubplot:xlabel='k', ylabel='accuracy'>"
      ]
     },
     "execution_count": 113,
     "metadata": {},
     "output_type": "execute_result"
    },
    {
     "data": {
      "text/plain": [
       "<Figure size 432x288 with 0 Axes>"
      ]
     },
     "metadata": {},
     "output_type": "display_data"
    },
    {
     "data": {
      "image/png": "[encoded data removed]",
      "text/plain": [
       "<Figure size 720x288 with 1 Axes>"
      ]
     },
     "metadata": {
      "needs_background": "light"
     },
     "output_type": "display_data"
    }
   ],
   "source": [
    "#Wykres dokładności nieznormalizowanych danych TAXI\n",
    "data=pd.DataFrame(knnWynikiNieznormalizowane[1],rangeOfK)\n",
    "print(data)\n",
    "plt.figure()\n",
    "data.plot(xlabel=\"k\",ylabel=\"accuracy\",marker=\".\",figsize=(10,4))"
   ]
  },
  {
   "cell_type": "code",
   "execution_count": 94,
   "id": "477dc103",
   "metadata": {},
   "outputs": [
    {
     "name": "stdout",
     "output_type": "stream",
     "text": [
      "[40.54054054054054, 35.13513513513514, 31.08108108108108, 29.72972972972973, 31.08108108108108, 31.08108108108108, 32.432432432432435, 33.78378378378378, 28.37837837837838, 29.72972972972973, 28.37837837837838, 28.37837837837838, 28.37837837837838, 28.37837837837838]\n",
      "[41.891891891891895, 36.486486486486484, 31.08108108108108, 29.72972972972973, 31.08108108108108, 31.08108108108108, 32.432432432432435, 33.78378378378378, 28.37837837837838, 29.72972972972973, 28.37837837837838, 28.37837837837838, 28.37837837837838, 28.37837837837838]\n"
     ]
    }
   ],
   "source": [
    "#Usuwam label analizuje dokładności\n",
    "#Analiza nieznormalizowana\n",
    "# df=df.drop(['label'],axis=1)\n",
    "\n",
    "knnWynikiNieznormalizowane=[]\n",
    "for t in range(0,2):\n",
    "    solution=[]\n",
    "    for k in rangeOfK:    \n",
    "        tmpTrain,tmpTest=ProcessingData.splitSet(df,0.7)\n",
    "        solution.append(Analize.analizeKNN(tmpTrain,tmpTest,k,dfCopy['job_title'].cat.categories.tolist(),t))\n",
    "    print(solution)\n",
    "    knnWynikiNieznormalizowane.append(solution)\n"
   ]
  },
  {
   "cell_type": "code",
   "execution_count": 95,
   "id": "7b018a86",
   "metadata": {},
   "outputs": [
    {
     "name": "stdout",
     "output_type": "stream",
     "text": [
      "[47.2972972972973, 45.94594594594595, 45.94594594594595, 45.94594594594595, 40.54054054054054, 35.13513513513514, 33.78378378378378, 31.08108108108108, 31.08108108108108, 31.08108108108108, 28.37837837837838, 31.08108108108108, 27.027027027027028, 29.72972972972973]\n",
      "[52.702702702702695, 48.64864864864865, 45.94594594594595, 44.5945945945946, 43.24324324324324, 36.486486486486484, 39.189189189189186, 37.83783783783784, 37.83783783783784, 37.83783783783784, 35.13513513513514, 37.83783783783784, 31.08108108108108, 33.78378378378378]\n"
     ]
    }
   ],
   "source": [
    "#Analiza znormalizowana dla kolumny wypłata\n",
    "processedData=processedData.drop(['label'],axis=1)\n",
    "knnWynikiZnormalizowaneWyplata=[]\n",
    "for t in range(0,2):\n",
    "    solution=[]\n",
    "    for k in rangeOfK:    \n",
    "        tmpTrain,tmpTest=ProcessingData.splitSet(processedData,0.7)\n",
    "        solution.append(Analize.analizeKNN(tmpTrain,tmpTest,k,dfCopy['job_title'].cat.categories.tolist(),t))\n",
    "    print(solution)\n",
    "    knnWynikiZnormalizowaneWyplata.append(solution)\n",
    "\n",
    "#Udowodniono brak wpływu kolumny label na dane/klasyfikację"
   ]
  },
  {
   "cell_type": "code",
   "execution_count": 96,
   "id": "c4980b3d",
   "metadata": {},
   "outputs": [
    {
     "name": "stdout",
     "output_type": "stream",
     "text": [
      "[5.405405405405405, 5.405405405405405, 5.405405405405405, 5.405405405405405, 5.405405405405405, 5.405405405405405, 5.405405405405405, 5.405405405405405, 5.405405405405405, 5.405405405405405, 5.405405405405405, 5.405405405405405, 5.405405405405405, 5.405405405405405]\n",
      "[5.405405405405405, 5.405405405405405, 5.405405405405405, 5.405405405405405, 5.405405405405405, 5.405405405405405, 5.405405405405405, 5.405405405405405, 5.405405405405405, 5.405405405405405, 5.405405405405405, 5.405405405405405, 5.405405405405405, 5.405405405405405]\n"
     ]
    }
   ],
   "source": [
    "#Analiza tylkko biorąc w knn job_title\n",
    "normalizedData=normalizedData.drop(['label'],axis=1)\n",
    "knnWynikiZnormalizowane=[]\n",
    "for t in range(0,2):\n",
    "    solution=[]\n",
    "    for k in rangeOfK:    \n",
    "        tmpTrain,tmpTest=ProcessingData.splitSet(normalizedData,0.7)\n",
    "        solution.append(Analize.analizeKNN(tmpTrain,tmpTest,k,dfCopy['job_title'].cat.categories.tolist(),t))\n",
    "    print(solution)\n",
    "    knnWynikiZnormalizowane.append(solution)\n",
    "#Ewidentnie dla wszstkich kolumn znormalizownaych nie ma sensu "
   ]
  },
  {
   "cell_type": "code",
   "execution_count": 180,
   "id": "79b03486",
   "metadata": {},
   "outputs": [
    {
     "name": "stdout",
     "output_type": "stream",
     "text": [
      "[0.0]\n",
      "[0.0, 36.486486486486484]\n",
      "[0.0, 36.486486486486484, 0.0]\n",
      "[0.0, 36.486486486486484, 0.0, 0.0]\n",
      "[0.0, 36.486486486486484, 0.0, 0.0, 36.486486486486484]\n",
      "[0.0, 36.486486486486484, 0.0, 0.0, 36.486486486486484, 36.486486486486484]\n",
      "[0.0, 36.486486486486484, 0.0, 0.0, 36.486486486486484, 36.486486486486484, 0.0]\n",
      "[0.0, 36.486486486486484, 0.0, 0.0, 36.486486486486484, 36.486486486486484, 0.0, 0.0]\n"
     ]
    },
    {
     "ename": "KeyboardInterrupt",
     "evalue": "",
     "output_type": "error",
     "traceback": [
      "\u001b[1;31m---------------------------------------------------------------------------\u001b[0m",
      "\u001b[1;31mKeyboardInterrupt\u001b[0m                         Traceback (most recent call last)",
      "\u001b[1;32m~\\AppData\\Local\\Temp/ipykernel_21180/1936510819.py\u001b[0m in \u001b[0;36m<module>\u001b[1;34m\u001b[0m\n\u001b[0;32m      8\u001b[0m         \u001b[1;32mfor\u001b[0m \u001b[0mk\u001b[0m \u001b[1;32min\u001b[0m \u001b[0mrangeOfK\u001b[0m\u001b[1;33m:\u001b[0m\u001b[1;33m\u001b[0m\u001b[1;33m\u001b[0m\u001b[0m\n\u001b[0;32m      9\u001b[0m             \u001b[0mtmpTrain\u001b[0m\u001b[1;33m,\u001b[0m\u001b[0mtmpTest\u001b[0m\u001b[1;33m=\u001b[0m\u001b[0mProcessingData\u001b[0m\u001b[1;33m.\u001b[0m\u001b[0msplitSet\u001b[0m\u001b[1;33m(\u001b[0m\u001b[0mprocessedData\u001b[0m\u001b[1;33m.\u001b[0m\u001b[0mcopy\u001b[0m\u001b[1;33m(\u001b[0m\u001b[1;33m)\u001b[0m\u001b[1;33m,\u001b[0m\u001b[1;36m0.7\u001b[0m\u001b[1;33m)\u001b[0m\u001b[1;33m\u001b[0m\u001b[1;33m\u001b[0m\u001b[0m\n\u001b[1;32m---> 10\u001b[1;33m             \u001b[0maccuracies\u001b[0m\u001b[1;33m.\u001b[0m\u001b[0mappend\u001b[0m\u001b[1;33m(\u001b[0m\u001b[0mAnalize\u001b[0m\u001b[1;33m.\u001b[0m\u001b[0manalizeKNN\u001b[0m\u001b[1;33m(\u001b[0m\u001b[0mtmpTrain\u001b[0m\u001b[1;33m,\u001b[0m\u001b[0mtmpTest\u001b[0m\u001b[1;33m,\u001b[0m\u001b[0mk\u001b[0m\u001b[1;33m,\u001b[0m\u001b[0mdfCopy\u001b[0m\u001b[1;33m[\u001b[0m\u001b[0mc\u001b[0m\u001b[1;33m]\u001b[0m\u001b[1;33m.\u001b[0m\u001b[0mcat\u001b[0m\u001b[1;33m.\u001b[0m\u001b[0mcategories\u001b[0m\u001b[1;33m.\u001b[0m\u001b[0mtolist\u001b[0m\u001b[1;33m(\u001b[0m\u001b[1;33m)\u001b[0m\u001b[1;33m,\u001b[0m\u001b[0mt\u001b[0m\u001b[1;33m,\u001b[0m\u001b[0mc\u001b[0m\u001b[1;33m)\u001b[0m\u001b[1;33m)\u001b[0m\u001b[1;33m\u001b[0m\u001b[1;33m\u001b[0m\u001b[0m\n\u001b[0m\u001b[0;32m     11\u001b[0m             \u001b[0mprint\u001b[0m\u001b[1;33m(\u001b[0m\u001b[0maccuracies\u001b[0m\u001b[1;33m)\u001b[0m\u001b[1;33m\u001b[0m\u001b[1;33m\u001b[0m\u001b[0m\n\u001b[0;32m     12\u001b[0m         \u001b[0mfinAccuracies\u001b[0m\u001b[1;33m.\u001b[0m\u001b[0mappend\u001b[0m\u001b[1;33m(\u001b[0m\u001b[1;33m[\u001b[0m\u001b[0mc\u001b[0m\u001b[1;33m,\u001b[0m\u001b[0mt\u001b[0m\u001b[1;33m,\u001b[0m\u001b[0mmax\u001b[0m\u001b[1;33m(\u001b[0m\u001b[0maccuracies\u001b[0m\u001b[1;33m)\u001b[0m\u001b[1;33m,\u001b[0m\u001b[0mrangeOfK\u001b[0m\u001b[1;33m[\u001b[0m\u001b[0maccuracies\u001b[0m\u001b[1;33m.\u001b[0m\u001b[0mindex\u001b[0m\u001b[1;33m(\u001b[0m\u001b[0mmax\u001b[0m\u001b[1;33m(\u001b[0m\u001b[0maccuracies\u001b[0m\u001b[1;33m)\u001b[0m\u001b[1;33m)\u001b[0m\u001b[1;33m]\u001b[0m\u001b[1;33m]\u001b[0m\u001b[1;33m)\u001b[0m\u001b[1;33m\u001b[0m\u001b[1;33m\u001b[0m\u001b[0m\n",
      "\u001b[1;32m~\\AppData\\Local\\Temp/ipykernel_21180/1444626793.py\u001b[0m in \u001b[0;36manalizeKNN\u001b[1;34m(train, test, k, objects, typeOfCalculation, colName)\u001b[0m\n\u001b[0;32m     15\u001b[0m         \u001b[0mc\u001b[0m\u001b[1;33m=\u001b[0m\u001b[1;36m0\u001b[0m\u001b[1;33m\u001b[0m\u001b[1;33m\u001b[0m\u001b[0m\n\u001b[0;32m     16\u001b[0m         \u001b[1;32mfor\u001b[0m \u001b[0mx\u001b[0m \u001b[1;32min\u001b[0m \u001b[0mrange\u001b[0m\u001b[1;33m(\u001b[0m\u001b[1;36m0\u001b[0m\u001b[1;33m,\u001b[0m\u001b[0mlen\u001b[0m\u001b[1;33m(\u001b[0m\u001b[0mtest\u001b[0m\u001b[1;33m)\u001b[0m\u001b[1;33m)\u001b[0m\u001b[1;33m:\u001b[0m\u001b[1;33m\u001b[0m\u001b[1;33m\u001b[0m\u001b[0m\n\u001b[1;32m---> 17\u001b[1;33m             \u001b[1;32mif\u001b[0m\u001b[1;33m(\u001b[0m\u001b[0mtest\u001b[0m\u001b[1;33m.\u001b[0m\u001b[0miloc\u001b[0m\u001b[1;33m[\u001b[0m\u001b[0mx\u001b[0m\u001b[1;33m]\u001b[0m\u001b[1;33m.\u001b[0m\u001b[0mat\u001b[0m\u001b[1;33m[\u001b[0m\u001b[0mcolName\u001b[0m\u001b[1;33m]\u001b[0m\u001b[1;33m==\u001b[0m\u001b[0mKNN\u001b[0m\u001b[1;33m.\u001b[0m\u001b[0mclustering\u001b[0m\u001b[1;33m(\u001b[0m\u001b[0mtrain\u001b[0m\u001b[1;33m,\u001b[0m\u001b[0mtest\u001b[0m\u001b[1;33m.\u001b[0m\u001b[0miloc\u001b[0m\u001b[1;33m[\u001b[0m\u001b[0mx\u001b[0m\u001b[1;33m]\u001b[0m\u001b[1;33m,\u001b[0m\u001b[0mk\u001b[0m\u001b[1;33m,\u001b[0m\u001b[0mobjects\u001b[0m\u001b[1;33m,\u001b[0m\u001b[0mtypeOfCalculation\u001b[0m\u001b[1;33m,\u001b[0m\u001b[0mcolName\u001b[0m\u001b[1;33m)\u001b[0m\u001b[1;33m)\u001b[0m\u001b[1;33m:\u001b[0m\u001b[1;33m\u001b[0m\u001b[1;33m\u001b[0m\u001b[0m\n\u001b[0m\u001b[0;32m     18\u001b[0m                 \u001b[0mc\u001b[0m\u001b[1;33m+=\u001b[0m\u001b[1;36m1\u001b[0m\u001b[1;33m\u001b[0m\u001b[1;33m\u001b[0m\u001b[0m\n\u001b[0;32m     19\u001b[0m         \u001b[1;32mreturn\u001b[0m \u001b[0mc\u001b[0m\u001b[1;33m/\u001b[0m\u001b[0mlen\u001b[0m\u001b[1;33m(\u001b[0m\u001b[0mtest\u001b[0m\u001b[1;33m)\u001b[0m\u001b[1;33m*\u001b[0m\u001b[1;36m100\u001b[0m\u001b[1;33m\u001b[0m\u001b[1;33m\u001b[0m\u001b[0m\n",
      "\u001b[1;32m~\\AppData\\Local\\Temp/ipykernel_21180/2618507365.py\u001b[0m in \u001b[0;36mclustering\u001b[1;34m(data, sample, k, objects, typeOfCalculation, colName)\u001b[0m\n\u001b[0;32m     28\u001b[0m             \u001b[1;31m#print(data.iloc[x])\u001b[0m\u001b[1;33m\u001b[0m\u001b[1;33m\u001b[0m\u001b[0m\n\u001b[0;32m     29\u001b[0m             \u001b[1;32mif\u001b[0m \u001b[0mtypeOfCalculation\u001b[0m\u001b[1;33m==\u001b[0m\u001b[1;36m0\u001b[0m\u001b[1;33m:\u001b[0m\u001b[1;33m\u001b[0m\u001b[1;33m\u001b[0m\u001b[0m\n\u001b[1;32m---> 30\u001b[1;33m                 \u001b[0mdistances\u001b[0m\u001b[1;33m.\u001b[0m\u001b[0mappend\u001b[0m\u001b[1;33m(\u001b[0m\u001b[0mKNN\u001b[0m\u001b[1;33m.\u001b[0m\u001b[0mminkowski\u001b[0m\u001b[1;33m(\u001b[0m\u001b[0msample\u001b[0m\u001b[1;33m,\u001b[0m\u001b[0mdata\u001b[0m\u001b[1;33m.\u001b[0m\u001b[0miloc\u001b[0m\u001b[1;33m[\u001b[0m\u001b[0mx\u001b[0m\u001b[1;33m]\u001b[0m\u001b[1;33m,\u001b[0m\u001b[1;36m2\u001b[0m\u001b[1;33m)\u001b[0m\u001b[1;33m)\u001b[0m\u001b[1;33m\u001b[0m\u001b[1;33m\u001b[0m\u001b[0m\n\u001b[0m\u001b[0;32m     31\u001b[0m             \u001b[1;32melif\u001b[0m \u001b[0mtypeOfCalculation\u001b[0m\u001b[1;33m==\u001b[0m\u001b[1;36m1\u001b[0m\u001b[1;33m:\u001b[0m\u001b[1;33m\u001b[0m\u001b[1;33m\u001b[0m\u001b[0m\n\u001b[0;32m     32\u001b[0m                 \u001b[0mdistances\u001b[0m\u001b[1;33m.\u001b[0m\u001b[0mappend\u001b[0m\u001b[1;33m(\u001b[0m\u001b[0mKNN\u001b[0m\u001b[1;33m.\u001b[0m\u001b[0mtaxi\u001b[0m\u001b[1;33m(\u001b[0m\u001b[0msample\u001b[0m\u001b[1;33m,\u001b[0m\u001b[0mdata\u001b[0m\u001b[1;33m.\u001b[0m\u001b[0miloc\u001b[0m\u001b[1;33m[\u001b[0m\u001b[0mx\u001b[0m\u001b[1;33m]\u001b[0m\u001b[1;33m)\u001b[0m\u001b[1;33m)\u001b[0m\u001b[1;33m\u001b[0m\u001b[1;33m\u001b[0m\u001b[0m\n",
      "\u001b[1;32m~\\AppData\\Local\\Temp/ipykernel_21180/2618507365.py\u001b[0m in \u001b[0;36mminkowski\u001b[1;34m(v1, v2, m)\u001b[0m\n\u001b[0;32m     12\u001b[0m         \u001b[0mdistance\u001b[0m\u001b[1;33m=\u001b[0m\u001b[1;36m0\u001b[0m\u001b[1;33m\u001b[0m\u001b[1;33m\u001b[0m\u001b[0m\n\u001b[0;32m     13\u001b[0m         \u001b[1;32mfor\u001b[0m \u001b[0me\u001b[0m \u001b[1;32min\u001b[0m \u001b[0mrange\u001b[0m\u001b[1;33m(\u001b[0m\u001b[1;36m0\u001b[0m\u001b[1;33m,\u001b[0m\u001b[0mlen\u001b[0m\u001b[1;33m(\u001b[0m\u001b[0mv1\u001b[0m\u001b[1;33m)\u001b[0m\u001b[1;33m)\u001b[0m\u001b[1;33m:\u001b[0m\u001b[1;33m\u001b[0m\u001b[1;33m\u001b[0m\u001b[0m\n\u001b[1;32m---> 14\u001b[1;33m             \u001b[0mdistance\u001b[0m\u001b[1;33m+=\u001b[0m\u001b[0mabs\u001b[0m\u001b[1;33m(\u001b[0m\u001b[0mv1\u001b[0m\u001b[1;33m[\u001b[0m\u001b[0me\u001b[0m\u001b[1;33m]\u001b[0m\u001b[1;33m-\u001b[0m\u001b[0mv2\u001b[0m\u001b[1;33m[\u001b[0m\u001b[0me\u001b[0m\u001b[1;33m]\u001b[0m\u001b[1;33m)\u001b[0m\u001b[1;33m**\u001b[0m\u001b[0mm\u001b[0m\u001b[1;33m\u001b[0m\u001b[1;33m\u001b[0m\u001b[0m\n\u001b[0m\u001b[0;32m     15\u001b[0m         \u001b[1;31m#print(distance**(1/m))\u001b[0m\u001b[1;33m\u001b[0m\u001b[1;33m\u001b[0m\u001b[0m\n\u001b[0;32m     16\u001b[0m         \u001b[1;32mreturn\u001b[0m \u001b[0mdistance\u001b[0m\u001b[1;33m**\u001b[0m\u001b[1;33m(\u001b[0m\u001b[1;36m1\u001b[0m\u001b[1;33m/\u001b[0m\u001b[0mm\u001b[0m\u001b[1;33m)\u001b[0m\u001b[1;33m\u001b[0m\u001b[1;33m\u001b[0m\u001b[0m\n",
      "\u001b[1;31mKeyboardInterrupt\u001b[0m: "
     ]
    }
   ],
   "source": [
    "#Dla róznych kolumn chcę uzyskac najlepszy algorytm knn z k określonym i zapisac dokładność do DataFrame\n",
    "colNames=[\"job_title\",\"company_location\",\"employment_type\",\"company_size\"]\n",
    "\n",
    "finAccuracies=[]\n",
    "for c in [\"job_title\"]:    \n",
    "    for t in range(0,2):\n",
    "        accuracies=[]\n",
    "        for k in rangeOfK:\n",
    "            tmpTrain,tmpTest=ProcessingData.splitSet(processedData.copy(),0.7)\n",
    "            accuracies.append(Analize.analizeKNN(tmpTrain,tmpTest,k,dfCopy[c].cat.categories.tolist(),t,c))\n",
    "            print(accuracies)\n",
    "        finAccuracies.append([c,t,max(accuracies),rangeOfK[accuracies.index(max(accuracies))]])"
   ]
  },
  {
   "cell_type": "code",
   "execution_count": 171,
   "id": "94397217",
   "metadata": {},
   "outputs": [
    {
     "data": {
      "text/plain": [
       "[['company_size', 0, 45.94594594594595, 2],\n",
       " ['company_size', 1, 45.94594594594595, 2]]"
      ]
     },
     "execution_count": 171,
     "metadata": {},
     "output_type": "execute_result"
    }
   ],
   "source": [
    "finAccuracies"
   ]
  },
  {
   "cell_type": "code",
   "execution_count": 116,
   "id": "10729c9a",
   "metadata": {},
   "outputs": [
    {
     "data": {
      "text/html": [
       "<div>\n",
       "<style scoped>\n",
       "    .dataframe tbody tr th:only-of-type {\n",
       "        vertical-align: middle;\n",
       "    }\n",
       "\n",
       "    .dataframe tbody tr th {\n",
       "        vertical-align: top;\n",
       "    }\n",
       "\n",
       "    .dataframe thead th {\n",
       "        text-align: right;\n",
       "    }\n",
       "</style>\n",
       "<table border=\"1\" class=\"dataframe\">\n",
       "  <thead>\n",
       "    <tr style=\"text-align: right;\">\n",
       "      <th></th>\n",
       "      <th>job_title</th>\n",
       "      <th>experience</th>\n",
       "    </tr>\n",
       "  </thead>\n",
       "  <tbody>\n",
       "    <tr>\n",
       "      <th>KNN_Taxi_Salary_Norm</th>\n",
       "      <td>1</td>\n",
       "      <td>2</td>\n",
       "    </tr>\n",
       "    <tr>\n",
       "      <th>KNN_k=5</th>\n",
       "      <td>3</td>\n",
       "      <td>4</td>\n",
       "    </tr>\n",
       "  </tbody>\n",
       "</table>\n",
       "</div>"
      ],
      "text/plain": [
       "                      job_title  experience\n",
       "KNN_Taxi_Salary_Norm          1           2\n",
       "KNN_k=5                       3           4"
      ]
     },
     "execution_count": 116,
     "metadata": {},
     "output_type": "execute_result"
    }
   ],
   "source": [
    "#Tworze tabelkę do zbioru miękkiego\n",
    "indexNames=['KNN_Taxi_Salary_Norm','KNN_k=5']\n",
    "columnNames=['job_title','experience']\n",
    "\n",
    "pd.DataFrame([[1,2],[3,4]],indexNames,columnNames)"
   ]
  }
 ],
 "metadata": {
  "kernelspec": {
   "display_name": "Python 3 (ipykernel)",
   "language": "python",
   "name": "python3"
  },
  "language_info": {
   "codemirror_mode": {
    "name": "ipython",
    "version": 3
   },
   "file_extension": ".py",
   "mimetype": "text/x-python",
   "name": "python",
   "nbconvert_exporter": "python",
   "pygments_lexer": "ipython3",
   "version": "3.9.7"
  }
 },
 "nbformat": 4,
 "nbformat_minor": 5
}
